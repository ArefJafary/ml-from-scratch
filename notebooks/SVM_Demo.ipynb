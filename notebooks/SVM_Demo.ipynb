{
  "cells": [
    {
      "cell_type": "markdown",
      "id": "14366b00-c2f2-415b-b824-a59acda784eb",
      "metadata": {
        "id": "14366b00-c2f2-415b-b824-a59acda784eb"
      },
      "source": [
        "# SVM from Scratch: Module Demo & Testing\n"
      ]
    },
    {
      "cell_type": "markdown",
      "source": [
        "## 1. Introduction\n",
        "Support Vector Machine (SVM) is a supervised learning algorithm widely used for classification. It works by finding the optimal hyperplane that separates classes with the maximum margin, which helps improve generalization.\n",
        "\n",
        "SVM handles both linear and non-linear problems effectively using kernel functions and is commonly applied in fields like text and image classification.\n",
        "\n",
        "In this notebook, we test a custom SVM implementation from scratch (as a standalone Python module) on the Iris dataset to demonstrate its performance and decision boundaries."
      ],
      "metadata": {
        "id": "K9YJmjJpOVU8"
      },
      "id": "K9YJmjJpOVU8"
    },
    {
      "cell_type": "markdown",
      "id": "efbd9436-56c4-4eb0-a45e-01ecf8720d5b",
      "metadata": {
        "id": "efbd9436-56c4-4eb0-a45e-01ecf8720d5b"
      },
      "source": [
        "## 2. Import Libraries"
      ]
    },
    {
      "cell_type": "code",
      "execution_count": 33,
      "id": "f6a7c800-a0ef-4314-bacb-4e14d7fea170",
      "metadata": {
        "id": "f6a7c800-a0ef-4314-bacb-4e14d7fea170"
      },
      "outputs": [],
      "source": [
        "import numpy as np\n",
        "from sklearn import datasets\n",
        "from sklearn.metrics import classification_report, confusion_matrix"
      ]
    },
    {
      "cell_type": "code",
      "source": [
        "# Connect to Google Drive and access my custom SVM model\n",
        "from google.colab import drive\n",
        "drive.mount('/content/drive')"
      ],
      "metadata": {
        "colab": {
          "base_uri": "https://localhost:8080/"
        },
        "id": "BPV3ZJLcGwUE",
        "outputId": "906342f9-45ca-4d18-c5e0-63daca70643f"
      },
      "id": "BPV3ZJLcGwUE",
      "execution_count": 34,
      "outputs": [
        {
          "output_type": "stream",
          "name": "stdout",
          "text": [
            "Drive already mounted at /content/drive; to attempt to forcibly remount, call drive.mount(\"/content/drive\", force_remount=True).\n"
          ]
        }
      ]
    },
    {
      "cell_type": "code",
      "source": [
        "import sys\n",
        "sys.path.append('/content/drive/MyDrive/scratch/')\n",
        "from models.svm import SVM"
      ],
      "metadata": {
        "id": "oiv4Qp2jHkY4"
      },
      "id": "oiv4Qp2jHkY4",
      "execution_count": 6,
      "outputs": []
    },
    {
      "cell_type": "markdown",
      "source": [
        "## 3. Load Dataset"
      ],
      "metadata": {
        "id": "QLP2-3blH1zW"
      },
      "id": "QLP2-3blH1zW"
    },
    {
      "cell_type": "code",
      "execution_count": 20,
      "id": "e66f958a-f1c2-4762-974e-ac0b743d5043",
      "metadata": {
        "id": "e66f958a-f1c2-4762-974e-ac0b743d5043"
      },
      "outputs": [],
      "source": [
        "# Load Iris dataset\n",
        "data = datasets.load_iris()\n",
        "X = data.data\n",
        "y = data.target\n",
        "\n",
        "y = np.where(y == 0, -1, 1)"
      ]
    },
    {
      "cell_type": "markdown",
      "source": [
        "## 4. Train-Test Split\n"
      ],
      "metadata": {
        "id": "r_bEXTPUIK8i"
      },
      "id": "r_bEXTPUIK8i"
    },
    {
      "cell_type": "code",
      "execution_count": 21,
      "id": "5891b988-ece0-4a6c-8eca-9ae0384f9072",
      "metadata": {
        "colab": {
          "base_uri": "https://localhost:8080/"
        },
        "id": "5891b988-ece0-4a6c-8eca-9ae0384f9072",
        "outputId": "70a8ab67-cfd2-4dfd-cd55-a96e6a37ca28"
      },
      "outputs": [
        {
          "output_type": "stream",
          "name": "stdout",
          "text": [
            "(120, 4) (30, 4)\n"
          ]
        }
      ],
      "source": [
        "X_train, X_test, y_train, y_test = train_test_split(X, y, test_size=0.2, random_state=42)\n",
        "print(X_train.shape , X_test.shape)"
      ]
    },
    {
      "cell_type": "markdown",
      "source": [
        "## 5. Train SVM Model"
      ],
      "metadata": {
        "id": "vFXcDZj0JBJG"
      },
      "id": "vFXcDZj0JBJG"
    },
    {
      "cell_type": "code",
      "source": [
        "model = SVM(lr=0.001, lamb=0.01, n_iteration=1000)\n",
        "model.fit(X_train, y_train)"
      ],
      "metadata": {
        "id": "k7VqduW8Ip1_"
      },
      "id": "k7VqduW8Ip1_",
      "execution_count": 27,
      "outputs": []
    },
    {
      "cell_type": "markdown",
      "source": [
        "## 6. predict"
      ],
      "metadata": {
        "id": "RqHkbnFxJIwo"
      },
      "id": "RqHkbnFxJIwo"
    },
    {
      "cell_type": "code",
      "source": [
        "y_pred = model.predict(X_test)\n",
        "y_pred"
      ],
      "metadata": {
        "colab": {
          "base_uri": "https://localhost:8080/"
        },
        "id": "Gk4VGX4QI7GD",
        "outputId": "7bde7f2d-6e39-420a-aa20-de9616aeb01d"
      },
      "id": "Gk4VGX4QI7GD",
      "execution_count": 28,
      "outputs": [
        {
          "output_type": "execute_result",
          "data": {
            "text/plain": [
              "array([-1., -1.,  1., -1., -1., -1., -1., -1., -1., -1., -1., -1., -1.,\n",
              "       -1., -1., -1., -1., -1., -1., -1., -1., -1., -1., -1., -1., -1.,\n",
              "       -1., -1., -1., -1.])"
            ]
          },
          "metadata": {},
          "execution_count": 28
        }
      ]
    },
    {
      "cell_type": "markdown",
      "source": [
        "## 7. Evaluate"
      ],
      "metadata": {
        "id": "TC6ZTqraJOS8"
      },
      "id": "TC6ZTqraJOS8"
    },
    {
      "cell_type": "code",
      "source": [
        "print(classification_report(y_test, y_pred))"
      ],
      "metadata": {
        "colab": {
          "base_uri": "https://localhost:8080/"
        },
        "id": "dsqosatBJQv4",
        "outputId": "a4064a07-334a-443a-e180-16b1517e5090"
      },
      "id": "dsqosatBJQv4",
      "execution_count": 31,
      "outputs": [
        {
          "output_type": "stream",
          "name": "stdout",
          "text": [
            "              precision    recall  f1-score   support\n",
            "\n",
            "          -1       0.34      1.00      0.51        10\n",
            "           1       1.00      0.05      0.10        20\n",
            "\n",
            "    accuracy                           0.37        30\n",
            "   macro avg       0.67      0.53      0.30        30\n",
            "weighted avg       0.78      0.37      0.23        30\n",
            "\n"
          ]
        }
      ]
    },
    {
      "cell_type": "code",
      "source": [
        "print(confusion_matrix(y_test, y_pred))"
      ],
      "metadata": {
        "colab": {
          "base_uri": "https://localhost:8080/"
        },
        "id": "Kjy1jlf1PB5j",
        "outputId": "f69b225d-760e-4866-dca9-525a76078f03"
      },
      "id": "Kjy1jlf1PB5j",
      "execution_count": 32,
      "outputs": [
        {
          "output_type": "stream",
          "name": "stdout",
          "text": [
            "[[10  0]\n",
            " [19  1]]\n"
          ]
        }
      ]
    },
    {
      "cell_type": "code",
      "source": [],
      "metadata": {
        "id": "C3k2f57wPCsS"
      },
      "id": "C3k2f57wPCsS",
      "execution_count": null,
      "outputs": []
    }
  ],
  "metadata": {
    "kernelspec": {
      "display_name": "Python 3",
      "name": "python3"
    },
    "language_info": {
      "codemirror_mode": {
        "name": "ipython",
        "version": 3
      },
      "file_extension": ".py",
      "mimetype": "text/x-python",
      "name": "python",
      "nbconvert_exporter": "python",
      "pygments_lexer": "ipython3",
      "version": "3.11.9"
    },
    "colab": {
      "provenance": []
    }
  },
  "nbformat": 4,
  "nbformat_minor": 5
}